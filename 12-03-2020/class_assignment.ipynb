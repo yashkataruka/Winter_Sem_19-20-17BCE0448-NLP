{
 "cells": [
  {
   "cell_type": "markdown",
   "metadata": {},
   "source": [
    "# 17BCE0448"
   ]
  },
  {
   "cell_type": "code",
   "execution_count": 1,
   "metadata": {},
   "outputs": [],
   "source": [
    "import nltk"
   ]
  },
  {
   "cell_type": "code",
   "execution_count": 2,
   "metadata": {},
   "outputs": [
    {
     "name": "stdout",
     "output_type": "stream",
     "text": [
      "[('Ma', 'NNP'), ('started', 'VBD'), ('out', 'RP'), ('as', 'IN'), ('an', 'DT'), ('English', 'NNP'), ('teacher', 'NN'), (',', ','), ('where', 'WRB'), ('he', 'PRP'), ('made', 'VBD'), ('just', 'RB'), ('$', '$'), ('12', 'CD'), ('a', 'DT'), ('year', 'NN'), ('.', '.')]\n",
      "[('In', 'IN'), ('2010', 'CD'), (',', ','), ('Ma', 'NNP'), ('and', 'CC'), ('four', 'CD'), ('associates', 'NNS'), ('founded', 'VBD'), ('the', 'DT'), ('venture-capital', 'JJ'), ('firm', 'NN'), ('Yunfeng', 'NNP'), ('to', 'TO'), ('handle', 'VB'), ('much', 'RB'), ('of', 'IN'), ('Ma', 'NNP'), (\"'s\", 'POS'), ('personal', 'JJ'), ('investing', 'NN'), ('.', '.')]\n"
     ]
    }
   ],
   "source": [
    "s1 = nltk.word_tokenize(\"Ma started out as an English teacher, where he made just $12 a year.\")\n",
    "print(nltk.pos_tag(s1))\n",
    "ps1 = nltk.pos_tag(s1)\n",
    "s2 = nltk.word_tokenize(\"\"\"In 2010, Ma and four associates founded the venture-capital firm Yunfeng to \n",
    "                        handle much of Ma's personal investing.\"\"\")\n",
    "print(nltk.pos_tag(s2))\n",
    "ps2 = nltk.pos_tag(s2)"
   ]
  },
  {
   "cell_type": "code",
   "execution_count": 3,
   "metadata": {},
   "outputs": [
    {
     "name": "stdout",
     "output_type": "stream",
     "text": [
      "(S\n",
      "  (NP Ma/NNP)\n",
      "  started/VBD\n",
      "  out/RP\n",
      "  as/IN\n",
      "  (NP an/DT English/NNP)\n",
      "  (NP teacher/NN)\n",
      "  ,/,\n",
      "  where/WRB\n",
      "  he/PRP\n",
      "  made/VBD\n",
      "  just/RB\n",
      "  $/$\n",
      "  12/CD\n",
      "  (NP a/DT year/NN)\n",
      "  ./.)\n"
     ]
    }
   ],
   "source": [
    "regexp = \"NP: {<DT>?<JJ>*<NN.*>}\"\n",
    "parser = nltk.RegexpParser(regexp)\n",
    "chunk = parser.parse(ps1)\n",
    "print(chunk)"
   ]
  },
  {
   "cell_type": "code",
   "execution_count": 4,
   "metadata": {},
   "outputs": [
    {
     "name": "stdout",
     "output_type": "stream",
     "text": [
      "(S\n",
      "  In/IN\n",
      "  2010/CD\n",
      "  ,/,\n",
      "  (NP Ma/NNP)\n",
      "  and/CC\n",
      "  four/CD\n",
      "  (NP associates/NNS)\n",
      "  founded/VBD\n",
      "  (NP the/DT venture-capital/JJ firm/NN)\n",
      "  (NP Yunfeng/NNP)\n",
      "  to/TO\n",
      "  handle/VB\n",
      "  much/RB\n",
      "  of/IN\n",
      "  (NP Ma/NNP)\n",
      "  's/POS\n",
      "  (NP personal/JJ investing/NN)\n",
      "  ./.)\n"
     ]
    }
   ],
   "source": [
    "chunk = parser.parse(ps2)\n",
    "print(chunk)"
   ]
  },
  {
   "cell_type": "code",
   "execution_count": 5,
   "metadata": {},
   "outputs": [
    {
     "name": "stdout",
     "output_type": "stream",
     "text": [
      "(S\n",
      "  Ma/NNP\n",
      "  started/VBD\n",
      "  out/RP\n",
      "  as/IN\n",
      "  an/DT\n",
      "  English/NNP\n",
      "  teacher/NN\n",
      "  ,/,\n",
      "  where/WRB\n",
      "  he/PRP\n",
      "  made/VBD\n",
      "  just/RB\n",
      "  $/$\n",
      "  12/CD\n",
      "  a/DT\n",
      "  year/NN\n",
      "  ./.)\n"
     ]
    }
   ],
   "source": [
    "regexp_vb = \"VP: {<VB.*><IN>?<DT>?<JJ>*<NN.*>}\"\n",
    "parser = nltk.RegexpParser(regexp_vb)\n",
    "chunk = parser.parse(ps1)\n",
    "print(chunk)"
   ]
  },
  {
   "cell_type": "code",
   "execution_count": 6,
   "metadata": {},
   "outputs": [
    {
     "name": "stdout",
     "output_type": "stream",
     "text": [
      "(S\n",
      "  In/IN\n",
      "  2010/CD\n",
      "  ,/,\n",
      "  Ma/NNP\n",
      "  and/CC\n",
      "  four/CD\n",
      "  associates/NNS\n",
      "  (VP founded/VBD the/DT venture-capital/JJ firm/NN)\n",
      "  Yunfeng/NNP\n",
      "  to/TO\n",
      "  handle/VB\n",
      "  much/RB\n",
      "  of/IN\n",
      "  Ma/NNP\n",
      "  's/POS\n",
      "  personal/JJ\n",
      "  investing/NN\n",
      "  ./.)\n"
     ]
    }
   ],
   "source": [
    "chunk = parser.parse(ps2)\n",
    "print(chunk)"
   ]
  },
  {
   "cell_type": "code",
   "execution_count": null,
   "metadata": {},
   "outputs": [],
   "source": []
  }
 ],
 "metadata": {
  "kernelspec": {
   "display_name": "Python 3",
   "language": "python",
   "name": "python3"
  },
  "language_info": {
   "codemirror_mode": {
    "name": "ipython",
    "version": 3
   },
   "file_extension": ".py",
   "mimetype": "text/x-python",
   "name": "python",
   "nbconvert_exporter": "python",
   "pygments_lexer": "ipython3",
   "version": "3.7.3"
  }
 },
 "nbformat": 4,
 "nbformat_minor": 2
}
