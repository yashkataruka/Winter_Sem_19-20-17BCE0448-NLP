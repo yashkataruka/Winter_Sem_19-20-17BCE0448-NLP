{
 "cells": [
  {
   "cell_type": "markdown",
   "metadata": {},
   "source": [
    "# 17BCE0448"
   ]
  },
  {
   "cell_type": "code",
   "execution_count": 65,
   "metadata": {},
   "outputs": [],
   "source": [
    "import nltk\n",
    "from nltk.stem import PorterStemmer\n",
    "stem_porter = PorterStemmer()"
   ]
  },
  {
   "cell_type": "code",
   "execution_count": 66,
   "metadata": {},
   "outputs": [
    {
     "name": "stdout",
     "output_type": "stream",
     "text": [
      "cruelti\n",
      "happi\n",
      "sing\n",
      "tie\n",
      "tri\n",
      "unhappi\n"
     ]
    }
   ],
   "source": [
    "print(stem_porter.stem(\"cruelty\"))\n",
    "print(stem_porter.stem(\"happiness\"))\n",
    "print(stem_porter.stem(\"sing\"))\n",
    "print(stem_porter.stem(\"tying\"))\n",
    "print(stem_porter.stem(\"trying\"))\n",
    "print(stem_porter.stem(\"unhappy\"))"
   ]
  },
  {
   "cell_type": "code",
   "execution_count": 67,
   "metadata": {},
   "outputs": [],
   "source": [
    "from nltk.stem import RegexpStemmer\n",
    "stemmer_regexp = RegexpStemmer(\"ing\")"
   ]
  },
  {
   "cell_type": "code",
   "execution_count": 68,
   "metadata": {},
   "outputs": [
    {
     "name": "stdout",
     "output_type": "stream",
     "text": [
      "s\n",
      "try\n",
      "fry\n",
      "dye\n",
      "dy\n"
     ]
    }
   ],
   "source": [
    "print(stemmer_regexp.stem(\"sing\"))\n",
    "print(stemmer_regexp.stem(\"trying\"))\n",
    "print(stemmer_regexp.stem(\"frying\"))\n",
    "print(stemmer_regexp.stem(\"dyeing\"))\n",
    "print(stemmer_regexp.stem(\"dying\"))"
   ]
  },
  {
   "cell_type": "code",
   "execution_count": 69,
   "metadata": {},
   "outputs": [],
   "source": [
    "from nltk.stem import LancasterStemmer\n",
    "lanc = LancasterStemmer()"
   ]
  },
  {
   "cell_type": "code",
   "execution_count": 70,
   "metadata": {},
   "outputs": [
    {
     "name": "stdout",
     "output_type": "stream",
     "text": [
      "happy\n",
      "sing\n",
      "impress\n",
      "unimpress\n",
      "quest\n",
      "tying\n"
     ]
    }
   ],
   "source": [
    "print(lanc.stem(\"happiness\"))\n",
    "print(lanc.stem(\"sing\"))\n",
    "print(lanc.stem(\"impressive\"))\n",
    "print(lanc.stem(\"unimpressive\"))\n",
    "print(lanc.stem(\"questionable\"))\n",
    "print(lanc.stem(\"tying\"))"
   ]
  },
  {
   "cell_type": "code",
   "execution_count": 71,
   "metadata": {},
   "outputs": [],
   "source": [
    "from nltk.stem import SnowballStemmer\n",
    "snow = SnowballStemmer(\"english\")"
   ]
  },
  {
   "cell_type": "code",
   "execution_count": 72,
   "metadata": {},
   "outputs": [
    {
     "name": "stdout",
     "output_type": "stream",
     "text": [
      "happi\n",
      "impress\n",
      "sing\n",
      "tri\n",
      "tie\n",
      "dye\n",
      "die\n"
     ]
    }
   ],
   "source": [
    "print(snow.stem(\"happiness\"))\n",
    "print(snow.stem(\"impressive\"))\n",
    "print(snow.stem(\"sing\"))\n",
    "print(snow.stem(\"trying\"))\n",
    "print(snow.stem(\"tying\"))\n",
    "print(snow.stem(\"dyeing\"))\n",
    "print(snow.stem(\"dying\"))"
   ]
  },
  {
   "cell_type": "code",
   "execution_count": 73,
   "metadata": {},
   "outputs": [],
   "source": [
    "from nltk.stem import WordNetLemmatizer\n",
    "lemmatizer = WordNetLemmatizer()"
   ]
  },
  {
   "cell_type": "code",
   "execution_count": 74,
   "metadata": {},
   "outputs": [
    {
     "name": "stdout",
     "output_type": "stream",
     "text": [
      "cactus\n",
      "mouse\n",
      "rock\n",
      "fish\n",
      "goose\n",
      "teeth\n",
      "woman\n"
     ]
    }
   ],
   "source": [
    "print(lemmatizer.lemmatize(\"cacti\"))\n",
    "print(lemmatizer.lemmatize(\"mice\"))\n",
    "print(lemmatizer.lemmatize(\"rocks\"))\n",
    "print(lemmatizer.lemmatize(\"fish\"))\n",
    "print(lemmatizer.lemmatize(\"geese\"))\n",
    "print(lemmatizer.lemmatize(\"teeth\"))\n",
    "print(lemmatizer.lemmatize(\"women\"))"
   ]
  },
  {
   "cell_type": "code",
   "execution_count": 75,
   "metadata": {},
   "outputs": [
    {
     "name": "stdout",
     "output_type": "stream",
     "text": [
      "be\n",
      "good\n"
     ]
    }
   ],
   "source": [
    "print(lemmatizer.lemmatize(\"am\", pos = \"v\"))\n",
    "print(lemmatizer.lemmatize(\"better\", pos = \"a\"))"
   ]
  },
  {
   "cell_type": "code",
   "execution_count": 76,
   "metadata": {},
   "outputs": [
    {
     "name": "stdout",
     "output_type": "stream",
     "text": [
      "Am quick brown fox jump over the laziest dog\n"
     ]
    }
   ],
   "source": [
    "example = \"Am quick brown fox jumps over the laziest dog\"\n",
    "example = [stem_porter.stem(token) for token in example.split()]\n",
    "print(\" \".join(example))"
   ]
  },
  {
   "cell_type": "code",
   "execution_count": 77,
   "metadata": {},
   "outputs": [
    {
     "name": "stdout",
     "output_type": "stream",
     "text": [
      "364 day to go, for pretzel day :D\n"
     ]
    }
   ],
   "source": [
    "example = \"364 days to go, for pretzel day :D\"\n",
    "example = [stem_porter.stem(token) for token in example.split()]\n",
    "print(\" \".join(example))"
   ]
  },
  {
   "cell_type": "code",
   "execution_count": 78,
   "metadata": {},
   "outputs": [
    {
     "name": "stdout",
     "output_type": "stream",
     "text": [
      "['document', 'first', 'is', 'one', 'second', 'the', 'third', 'this']\n"
     ]
    }
   ],
   "source": [
    "import sklearn\n",
    "from sklearn.feature_extraction.text import CountVectorizer\n",
    "corpus = [\"This is the first document\",\"This document is the second document\", \"Third one\",\"Is this the first one?\"]\n",
    "vectorizer = CountVectorizer()\n",
    "X = vectorizer.fit_transform(corpus)\n",
    "print(vectorizer.get_feature_names())"
   ]
  },
  {
   "cell_type": "code",
   "execution_count": 79,
   "metadata": {},
   "outputs": [
    {
     "name": "stdout",
     "output_type": "stream",
     "text": [
      "[[1 1 1 0 0 1 0 1]\n",
      " [2 0 1 0 1 1 0 1]\n",
      " [0 0 0 1 0 0 1 0]\n",
      " [0 1 1 1 0 1 0 1]]\n"
     ]
    }
   ],
   "source": [
    "print(X.toarray())"
   ]
  }
 ],
 "metadata": {
  "kernelspec": {
   "display_name": "Python 3",
   "language": "python",
   "name": "python3"
  },
  "language_info": {
   "codemirror_mode": {
    "name": "ipython",
    "version": 3
   },
   "file_extension": ".py",
   "mimetype": "text/x-python",
   "name": "python",
   "nbconvert_exporter": "python",
   "pygments_lexer": "ipython3",
   "version": "3.7.3"
  }
 },
 "nbformat": 4,
 "nbformat_minor": 2
}
