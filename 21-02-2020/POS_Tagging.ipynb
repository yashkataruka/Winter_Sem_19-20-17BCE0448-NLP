{
 "cells": [
  {
   "cell_type": "code",
   "execution_count": 1,
   "metadata": {},
   "outputs": [],
   "source": [
    "import nltk\n",
    "s = nltk.word_tokenize(\"POTUS Donals Trump will be visiting New Delhi, Ahmedabad and Agra!\")"
   ]
  },
  {
   "cell_type": "code",
   "execution_count": 2,
   "metadata": {},
   "outputs": [
    {
     "data": {
      "text/plain": [
       "[('POTUS', 'NNP'),\n",
       " ('Donals', 'NNP'),\n",
       " ('Trump', 'NNP'),\n",
       " ('will', 'MD'),\n",
       " ('be', 'VB'),\n",
       " ('visiting', 'VBG'),\n",
       " ('New', 'NNP'),\n",
       " ('Delhi', 'NNP'),\n",
       " (',', ','),\n",
       " ('Ahmedabad', 'NNP'),\n",
       " ('and', 'CC'),\n",
       " ('Agra', 'NNP'),\n",
       " ('!', '.')]"
      ]
     },
     "execution_count": 2,
     "metadata": {},
     "output_type": "execute_result"
    }
   ],
   "source": [
    "nltk.pos_tag(s)"
   ]
  },
  {
   "cell_type": "code",
   "execution_count": null,
   "metadata": {},
   "outputs": [],
   "source": []
  }
 ],
 "metadata": {
  "kernelspec": {
   "display_name": "Python 3",
   "language": "python",
   "name": "python3"
  },
  "language_info": {
   "codemirror_mode": {
    "name": "ipython",
    "version": 3
   },
   "file_extension": ".py",
   "mimetype": "text/x-python",
   "name": "python",
   "nbconvert_exporter": "python",
   "pygments_lexer": "ipython3",
   "version": "3.7.3"
  }
 },
 "nbformat": 4,
 "nbformat_minor": 2
}
